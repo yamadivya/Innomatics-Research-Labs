{
 "cells": [
  {
   "cell_type": "markdown",
   "id": "78ed4623",
   "metadata": {},
   "source": [
    "# Day 4: Binomial Distribution I\n",
    "\n"
   ]
  },
  {
   "cell_type": "code",
   "execution_count": 1,
   "id": "0650bf4f",
   "metadata": {},
   "outputs": [
    {
     "name": "stdout",
     "output_type": "stream",
     "text": [
      "0.696\n"
     ]
    }
   ],
   "source": [
    "import math\n",
    "def bi_dist(x, n, p):\n",
    "    b = (math.factorial(n)/(math.factorial(x)*math.factorial(n-x)))*(p**x)*((1-p)**(n-x))\n",
    "    return(b)\n",
    "\n",
    "b, p, n = 0, 1.09/2.09, 6\n",
    "for i in range(3,7):\n",
    "    b += bi_dist(i, n, p)   \n",
    "print(\"%.3f\" %b)"
   ]
  },
  {
   "cell_type": "markdown",
   "id": "6f971e47",
   "metadata": {},
   "source": [
    "# Day 4: Binomial Distribution II\n",
    "\n"
   ]
  },
  {
   "cell_type": "code",
   "execution_count": 2,
   "id": "2aa0cc00",
   "metadata": {},
   "outputs": [
    {
     "name": "stdout",
     "output_type": "stream",
     "text": [
      "0.891\n",
      "0.342\n"
     ]
    }
   ],
   "source": [
    "import math\n",
    "def bi_dist(x, n, p):\n",
    "    b = (math.factorial(n)/(math.factorial(x)*math.factorial(n-x)))*(p**x)*((1-p)**(n-x))\n",
    "    return(b)\n",
    "#atmost 2\n",
    "b, p, n = 0, 0.12, 10\n",
    "for i in range(0,3):\n",
    "    b += bi_dist(i, n, p)   \n",
    "print(\"%.3f\" %b)\n",
    "#atleast 2\n",
    "m=0\n",
    "for i in range(2,11):\n",
    "    m += bi_dist(i, n, p)   \n",
    "print(\"%.3f\" %m)"
   ]
  },
  {
   "cell_type": "markdown",
   "id": "5f9dacbf",
   "metadata": {},
   "source": [
    "# Day 5: Normal Distribution I\n",
    "\n"
   ]
  },
  {
   "cell_type": "code",
   "execution_count": 3,
   "id": "51dd8f9d",
   "metadata": {},
   "outputs": [
    {
     "name": "stdout",
     "output_type": "stream",
     "text": [
      "0.401\n",
      "0.341\n"
     ]
    }
   ],
   "source": [
    "import math\n",
    "mean, std = 20, 2\n",
    "cdf = lambda x: 0.5 * (1 + math.erf((x - mean) / (std * (2 ** 0.5))))\n",
    "\n",
    "# Less than 19.5\n",
    "print('{:.3f}'.format(cdf(19.5)))\n",
    "# Between 20 and 22\n",
    "print('{:.3f}'.format(cdf(22) - cdf(20)))"
   ]
  },
  {
   "cell_type": "markdown",
   "id": "eaa6a0ba",
   "metadata": {},
   "source": [
    "# Day 5: Normal Distribution II\n",
    "\n"
   ]
  },
  {
   "cell_type": "code",
   "execution_count": 4,
   "id": "96bed6c1",
   "metadata": {},
   "outputs": [
    {
     "name": "stdout",
     "output_type": "stream",
     "text": [
      "15.87\n",
      "84.13\n",
      "15.87\n"
     ]
    }
   ],
   "source": [
    "import math\n",
    "mean, std = 70, 10\n",
    "cdf = lambda x: 0.5 * (1 + math.erf((x - mean) / (std * (2 ** 0.5))))\n",
    "\n",
    "print(round((1-cdf(80))*100,2))\n",
    "print(round((1-cdf(60))*100,2))\n",
    "print(round((cdf(60))*100,2))"
   ]
  },
  {
   "cell_type": "markdown",
   "id": "d1af1baa",
   "metadata": {},
   "source": [
    "# Day 6: The Central Limit Theorem I\n",
    "\n"
   ]
  },
  {
   "cell_type": "code",
   "execution_count": 5,
   "id": "976447e5",
   "metadata": {},
   "outputs": [
    {
     "name": "stdout",
     "output_type": "stream",
     "text": [
      "0.0098\n"
     ]
    }
   ],
   "source": [
    "import math\n",
    "maximum, boxes, mean, std = 9800, 49, 205, 15\n",
    "mean_sum = boxes * mean \n",
    "std_sum = math.sqrt(boxes) * std\n",
    "\n",
    "def cdf(x, mean, std):\n",
    "    Z = (x - mean)/std\n",
    "    return 0.5*(1 + math.erf(Z/(math.sqrt(2))))\n",
    "\n",
    "print(round(cdf(maximum, mean_sum, std_sum), 4))"
   ]
  },
  {
   "cell_type": "markdown",
   "id": "be850a3f",
   "metadata": {},
   "source": [
    "# Day 6: The Central Limit Theorem II"
   ]
  },
  {
   "cell_type": "code",
   "execution_count": 6,
   "id": "df911555",
   "metadata": {},
   "outputs": [
    {
     "name": "stdout",
     "output_type": "stream",
     "text": [
      "0.6915\n"
     ]
    }
   ],
   "source": [
    "import math\n",
    "lmt, students, mean, std = 250, 100, 2.4, 2.0\n",
    "mean_sum = students * mean \n",
    "std_sum = math.sqrt(students) * std\n",
    "\n",
    "def cdf(x, mean, std):\n",
    "    Z = (x - mean)/std\n",
    "    return 0.5*(1 + math.erf(Z/(math.sqrt(2))))\n",
    "\n",
    "print(round(cdf(lmt, mean_sum, std_sum), 4))"
   ]
  },
  {
   "cell_type": "markdown",
   "id": "8f1b12df",
   "metadata": {},
   "source": [
    "# Day 7: Pearson Correlation Coefficient I\n",
    "\n"
   ]
  },
  {
   "cell_type": "code",
   "execution_count": 7,
   "id": "67da7554",
   "metadata": {},
   "outputs": [
    {
     "name": "stdout",
     "output_type": "stream",
     "text": [
      "10\n",
      "10 9.8 8 7.8 7.7 7 6 5 4 2 \n",
      "200 44 32 24 22 17 15 12 8 4\n",
      "0.612\n"
     ]
    }
   ],
   "source": [
    "N = int(input())\n",
    "X = list(map(float,input().strip().split()))\n",
    "Y = list(map(float,input().strip().split()))\n",
    "\n",
    "xmean = sum(X) / N\n",
    "ymean = sum(Y) / N\n",
    "\n",
    "stdv_x = (sum([(i - xmean)**2 for i in X]) / N)**0.5\n",
    "stdv_y = (sum([(i - ymean)**2 for i in Y]) / N)**0.5\n",
    "\n",
    "covariance = sum([(X[i] - xmean) * (Y[i] - ymean) for i in range(N)])\n",
    "\n",
    "correlation_coefficient = covariance / (N * stdv_x * stdv_y)\n",
    "\n",
    "print(round(correlation_coefficient,3))"
   ]
  },
  {
   "cell_type": "markdown",
   "id": "b23d7e23",
   "metadata": {},
   "source": [
    "# Day 8: Least Square Regression Line\n",
    "\n"
   ]
  },
  {
   "cell_type": "code",
   "execution_count": 8,
   "id": "7c7a5101",
   "metadata": {},
   "outputs": [
    {
     "name": "stdout",
     "output_type": "stream",
     "text": [
      "78.288\n"
     ]
    }
   ],
   "source": [
    "x = [95,85,80,70,60]\n",
    "y = [85,95,70,65,70]\n",
    "x_square = [x*x for x in x]\n",
    "y_square = [y*y for y in y]\n",
    "xy = []\n",
    "for num1, num2 in zip(x, y):\n",
    "    xy.append(num1 * num2)\n",
    "#sum of y = n*a + b* sum of x\n",
    "n = len(x)\n",
    "denominator = n*sum(x_square) - sum(x)**2 \n",
    "a = ((sum(y)*sum(x_square)) - (sum(x)*sum(xy)))/denominator\n",
    "b = ((n*sum(xy))-sum(x)*sum(y))/denominator\n",
    "answer = a + b*80\n",
    "print(round(answer,3))"
   ]
  },
  {
   "cell_type": "code",
   "execution_count": null,
   "id": "4425bd49",
   "metadata": {},
   "outputs": [],
   "source": []
  }
 ],
 "metadata": {
  "kernelspec": {
   "display_name": "Python 3",
   "language": "python",
   "name": "python3"
  },
  "language_info": {
   "codemirror_mode": {
    "name": "ipython",
    "version": 3
   },
   "file_extension": ".py",
   "mimetype": "text/x-python",
   "name": "python",
   "nbconvert_exporter": "python",
   "pygments_lexer": "ipython3",
   "version": "3.8.8"
  }
 },
 "nbformat": 4,
 "nbformat_minor": 5
}
