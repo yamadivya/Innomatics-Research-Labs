{
 "cells": [
  {
   "cell_type": "markdown",
   "id": "f190ca21",
   "metadata": {},
   "source": [
    "# List Comprehensions"
   ]
  },
  {
   "cell_type": "code",
   "execution_count": 1,
   "id": "300ccb7c",
   "metadata": {},
   "outputs": [
    {
     "name": "stdout",
     "output_type": "stream",
     "text": [
      "1\n",
      "1\n",
      "1\n",
      "2\n",
      "[[0, 0, 0], [0, 0, 1], [0, 1, 0], [1, 0, 0], [1, 1, 1]]\n"
     ]
    }
   ],
   "source": [
    "x = int(input())\n",
    "y = int(input())\n",
    "z = int(input())\n",
    "n = int(input())\n",
    "print([[i, j, k] for i in range(x+1) for j in range(y+1) for k in range(z+1)if i+j+k !=n])"
   ]
  },
  {
   "cell_type": "markdown",
   "id": "54f62f85",
   "metadata": {},
   "source": [
    "# Find the Runner-Up Score!"
   ]
  },
  {
   "cell_type": "code",
   "execution_count": 7,
   "id": "93d6c1fb",
   "metadata": {},
   "outputs": [
    {
     "name": "stdout",
     "output_type": "stream",
     "text": [
      "5\n",
      "2 3 6 6 5\n",
      "5\n"
     ]
    }
   ],
   "source": [
    "n = int(input())\n",
    "arr = map(int, input().split())\n",
    "scores=set(arr)\n",
    "sorted_scores=sorted(scores)\n",
    "sorted_scores_list=list(sorted_scores)\n",
    "print(sorted_scores_list[-2])"
   ]
  },
  {
   "cell_type": "markdown",
   "id": "4058403b",
   "metadata": {},
   "source": [
    "# Nested Lists"
   ]
  },
  {
   "cell_type": "code",
   "execution_count": 8,
   "id": "7e1f31a6",
   "metadata": {},
   "outputs": [
    {
     "name": "stdout",
     "output_type": "stream",
     "text": [
      "5\n",
      "Harry\n",
      "37.21\n",
      "Berry\n",
      "37.21\n",
      "Tina\n",
      "37.2\n",
      "Akriti\n",
      "41\n",
      "Harsh\n",
      "39\n",
      "Berry\n",
      "Harry\n"
     ]
    }
   ],
   "source": [
    "students=[]\n",
    "for _ in range(int(input())):\n",
    "    name = input()\n",
    "    score = float(input())    \n",
    "    students.append([name,score]) \n",
    "x = 99999\n",
    "for i in range(len(students)):\n",
    "    if x > float(students[i][1]):\n",
    "        x = float(students[i][1]) \n",
    "y = 999999\n",
    "for i in range(len(students)):\n",
    "    if float(students[i][1]) > float(x) and y > float(students[i][1]):\n",
    "        y = float(students[i][1])  \n",
    "runner = []\n",
    "for i in range(len(students)):\n",
    "    if float(students[i][1]) == float(y):\n",
    "        runner.append(students[i][0])\n",
    "runner = sorted(runner)\n",
    "\n",
    "for i in range(len(runner)):\n",
    "    print(runner[i])"
   ]
  },
  {
   "cell_type": "markdown",
   "id": "047a8705",
   "metadata": {},
   "source": [
    "# Finding the percentage"
   ]
  },
  {
   "cell_type": "code",
   "execution_count": 9,
   "id": "59a9d65e",
   "metadata": {},
   "outputs": [
    {
     "name": "stdout",
     "output_type": "stream",
     "text": [
      "3\n",
      "Krishna 67 68 69\n",
      "Arjun 70 98 63\n",
      "Malavika 85 90 95\n",
      "Arjun\n",
      "77.00\n"
     ]
    }
   ],
   "source": [
    "n = int(input())\n",
    "student_marks = {}\n",
    "for _ in range(n):\n",
    "    name, *line = input().split()\n",
    "    scores = list(map(float, line))\n",
    "    student_marks[name] = scores\n",
    "query_name = input()\n",
    "if query_name in student_marks:\n",
    "    avg = (student_marks[query_name][0]+student_marks[query_name][1]+student_marks[query_name][2])/3\n",
    "    print('%.2f'%avg)\n",
    "else:\n",
    "        print(\"Student name not found\")"
   ]
  },
  {
   "cell_type": "markdown",
   "id": "d3c937b9",
   "metadata": {},
   "source": [
    "# Lists"
   ]
  },
  {
   "cell_type": "code",
   "execution_count": 10,
   "id": "0892488f",
   "metadata": {},
   "outputs": [
    {
     "name": "stdout",
     "output_type": "stream",
     "text": [
      "12\n",
      "insert 0 5\n",
      "insert 1 10\n",
      "insert 0 6\n",
      "print\n",
      "[6, 5, 10]\n",
      "remove 6\n",
      "append 9\n",
      "append 1\n",
      "sort\n",
      "print\n",
      "[1, 5, 9, 10]\n",
      "pop\n",
      "reverse\n",
      "print\n",
      "[9, 5, 1]\n"
     ]
    }
   ],
   "source": [
    "N = int(input())\n",
    "List=[]\n",
    "for i in range(N):\n",
    "    choice=input().split(\" \")\n",
    "        \n",
    "    if choice[0]=='insert':\n",
    "        List.insert(int(choice[1]),int(choice[2]))\n",
    "            \n",
    "    elif choice[0]=='print':\n",
    "        print(List)\n",
    "            \n",
    "    elif choice[0]=='remove':\n",
    "        List.remove(int(choice[1]))\n",
    "            \n",
    "    elif choice[0]=='append':\n",
    "        List.append(int(choice[1]))\n",
    "            \n",
    "    elif choice[0]=='sort':\n",
    "        List.sort()\n",
    "            \n",
    "    elif choice[0]=='pop':\n",
    "        List.pop()\n",
    "            \n",
    "    elif choice[0]=='reverse':\n",
    "        List.reverse()\n",
    "            \n",
    "    else:\n",
    "        print(\"Invalid Choice\")"
   ]
  },
  {
   "cell_type": "markdown",
   "id": "c7b13e78",
   "metadata": {},
   "source": [
    "# Tuples"
   ]
  },
  {
   "cell_type": "code",
   "execution_count": 13,
   "id": "bcea9af9",
   "metadata": {},
   "outputs": [
    {
     "name": "stdout",
     "output_type": "stream",
     "text": [
      "2\n",
      "1 2\n",
      "-3550055125485641917\n"
     ]
    }
   ],
   "source": [
    "n = int(input())\n",
    "integer_list = map(int, input().split())\n",
    "t=tuple(integer_list)\n",
    "print(hash(t))"
   ]
  },
  {
   "cell_type": "markdown",
   "id": "7ae2f2c2",
   "metadata": {},
   "source": [
    "# Introduction to Sets"
   ]
  },
  {
   "cell_type": "code",
   "execution_count": 14,
   "id": "3b45bccb",
   "metadata": {},
   "outputs": [],
   "source": [
    "from __future__ import division\n"
   ]
  },
  {
   "cell_type": "code",
   "execution_count": 19,
   "id": "90f14390",
   "metadata": {},
   "outputs": [
    {
     "name": "stdout",
     "output_type": "stream",
     "text": [
      "10\n",
      "161 182 161 154 176 170 167 171 170 174\n",
      "169.375\n"
     ]
    }
   ],
   "source": [
    "def average(array):\n",
    "    # your code goes here\n",
    "    s=set(arr)\n",
    "    total=sum(s)\n",
    "    avg=total/len(s)\n",
    "    return '%.3f'%avg\n",
    "n = int(input())\n",
    "arr = map(int, input().split())\n",
    "result = average(arr)\n",
    "print(result)"
   ]
  },
  {
   "cell_type": "markdown",
   "id": "a98c79fa",
   "metadata": {},
   "source": [
    "# Symmetric Difference"
   ]
  },
  {
   "cell_type": "code",
   "execution_count": 24,
   "id": "0307d53d",
   "metadata": {},
   "outputs": [
    {
     "name": "stdout",
     "output_type": "stream",
     "text": [
      "4\n",
      "2 4 5 9\n",
      "4\n",
      "2 4 11 12\n",
      "5\n",
      "9\n",
      "11\n",
      "12\n"
     ]
    }
   ],
   "source": [
    "M=int(input())\n",
    "Set_M=set(map(int, input().split()))\n",
    "N=int(input())\n",
    "Set_N=set(map(int, input().split()))\n",
    "a=Set_M.difference(Set_N)\n",
    "b=Set_N.difference(Set_M)\n",
    "c=a.union(b)\n",
    "d=sorted(c)\n",
    "for i in d:\n",
    "    print(i)"
   ]
  },
  {
   "cell_type": "markdown",
   "id": "edde7524",
   "metadata": {},
   "source": [
    "# No Idea!"
   ]
  },
  {
   "cell_type": "code",
   "execution_count": 25,
   "id": "b5d33b9e",
   "metadata": {},
   "outputs": [
    {
     "name": "stdout",
     "output_type": "stream",
     "text": [
      "3 2\n",
      "1 5 3\n",
      "3 1\n",
      "5 7\n",
      "1\n"
     ]
    }
   ],
   "source": [
    "happiness=0\n",
    "n,m=map(int,input().split())\n",
    "elements=map(int, input().split())\n",
    "set_a=set(map(int, input().split()))\n",
    "set_b=set(map(int, input().split()))\n",
    "for i in elements:\n",
    "    if i in set_a:\n",
    "        happiness+=1\n",
    "    elif i in set_b:\n",
    "        happiness-=1\n",
    "print(happiness)"
   ]
  },
  {
   "cell_type": "markdown",
   "id": "b32b414f",
   "metadata": {},
   "source": [
    "# Set.add()"
   ]
  },
  {
   "cell_type": "code",
   "execution_count": 26,
   "id": "b4ff756e",
   "metadata": {},
   "outputs": [
    {
     "name": "stdout",
     "output_type": "stream",
     "text": [
      "7\n",
      "UK\n",
      "China\n",
      "Greece\n",
      "India\n",
      "China\n",
      "USA\n",
      "UK\n",
      "5\n"
     ]
    }
   ],
   "source": [
    "N=int(input())\n",
    "country=set()\n",
    "for i in range(N):\n",
    "    country.add(input())\n",
    "print(len(country))"
   ]
  },
  {
   "cell_type": "markdown",
   "id": "5c439f7f",
   "metadata": {},
   "source": [
    "# Set .discard(), .remove() & .pop()\n",
    "\n"
   ]
  },
  {
   "cell_type": "code",
   "execution_count": 27,
   "id": "64039330",
   "metadata": {},
   "outputs": [
    {
     "name": "stdout",
     "output_type": "stream",
     "text": [
      "9\n",
      "1 2 3 4 5 6 7 8 9\n",
      "10\n",
      "pop\n",
      "remove 9\n",
      "discard 9\n",
      "discard 8\n",
      "remove 7\n",
      "pop\n",
      "discard 6\n",
      "remove 5\n",
      "pop\n",
      "discard 5\n",
      "4\n"
     ]
    }
   ],
   "source": [
    "n = int(input())\n",
    "s = set(map(int, input().split()))\n",
    "num_of_commands=int(input())\n",
    "for i in range(num_of_commands):\n",
    "    command=input().split()\n",
    "    \n",
    "    if command[0]=='pop':\n",
    "        s.pop()\n",
    "        \n",
    "    elif command[0]=='remove':\n",
    "        if int(command[1]) in s:\n",
    "            s.remove(int(command[1]))\n",
    "        else:\n",
    "            pass\n",
    "        \n",
    "    elif command[0]=='discard':\n",
    "        s.discard(int(command[1]))\n",
    "print(sum(s))"
   ]
  },
  {
   "cell_type": "markdown",
   "id": "e54cfa14",
   "metadata": {},
   "source": [
    "# Set .union() Operation"
   ]
  },
  {
   "cell_type": "code",
   "execution_count": 28,
   "id": "1e5de7dc",
   "metadata": {},
   "outputs": [
    {
     "name": "stdout",
     "output_type": "stream",
     "text": [
      "9\n",
      "1 2 3 4 5 6 7 8 9\n",
      "9\n",
      "10 1 2 3 11 21 55 6 8\n",
      "13\n"
     ]
    }
   ],
   "source": [
    "m=int(input())\n",
    "E=set(map(int,input().split()))\n",
    "n=int(input())\n",
    "F=set(map(int,input().split()))\n",
    "s=E.union(F)\n",
    "print(len(s))"
   ]
  },
  {
   "cell_type": "markdown",
   "id": "297ced1e",
   "metadata": {},
   "source": [
    "# Set .intersection() Operation"
   ]
  },
  {
   "cell_type": "code",
   "execution_count": 29,
   "id": "7ff3dbb7",
   "metadata": {},
   "outputs": [
    {
     "name": "stdout",
     "output_type": "stream",
     "text": [
      "9\n",
      "1 2 3 4 5 6 7 8 9\n",
      "9\n",
      "10 1 2 3 11 21 55 6 8\n",
      "5\n"
     ]
    }
   ],
   "source": [
    "m=int(input())\n",
    "E=set(map(int,input().split()))\n",
    "n=int(input())\n",
    "F=set(map(int,input().split()))\n",
    "s=E.intersection(F)\n",
    "print(len(s))"
   ]
  },
  {
   "cell_type": "markdown",
   "id": "7f72b272",
   "metadata": {},
   "source": [
    "# Set .difference() Operation\n",
    "\n"
   ]
  },
  {
   "cell_type": "code",
   "execution_count": 30,
   "id": "96fe45ee",
   "metadata": {},
   "outputs": [
    {
     "name": "stdout",
     "output_type": "stream",
     "text": [
      "9\n",
      "1 2 3 4 5 6 7 8 9\n",
      "9\n",
      "10 1 2 3 11 21 55 6 8\n",
      "4\n"
     ]
    }
   ],
   "source": [
    "m=int(input())\n",
    "E=set(map(int,input().split()))\n",
    "n=int(input())\n",
    "F=set(map(int,input().split()))\n",
    "s=E.difference(F)\n",
    "print(len(s))"
   ]
  },
  {
   "cell_type": "markdown",
   "id": "ce411745",
   "metadata": {},
   "source": [
    "# Set .symmetric_difference() Operation\n",
    "\n"
   ]
  },
  {
   "cell_type": "code",
   "execution_count": 31,
   "id": "ca4648ed",
   "metadata": {},
   "outputs": [
    {
     "name": "stdout",
     "output_type": "stream",
     "text": [
      "9\n",
      "1 2 3 4 5 6 7 8 9\n",
      "9\n",
      "10 1 2 3 11 21 55 6 8\n",
      "8\n"
     ]
    }
   ],
   "source": [
    "m=int(input())\n",
    "E=set(map(int,input().split()))\n",
    "n=int(input())\n",
    "F=set(map(int,input().split()))\n",
    "s=E.symmetric_difference(F)\n",
    "print(len(s))"
   ]
  },
  {
   "cell_type": "markdown",
   "id": "b9058897",
   "metadata": {},
   "source": [
    "# Set Mutations"
   ]
  },
  {
   "cell_type": "code",
   "execution_count": 32,
   "id": "25548be9",
   "metadata": {},
   "outputs": [
    {
     "name": "stdout",
     "output_type": "stream",
     "text": [
      "16\n",
      "1 2 3 4 5 6 7 8 9 10 11 12 13 14 24 52\n",
      "4\n",
      "intersection_update 10\n",
      "2 3 5 6 8 9 1 4 7 11\n",
      "update 2\n",
      "55 66\n",
      "symmetric_difference_update 5\n",
      "22 7 35 62 58\n",
      "difference_update 7\n",
      "11 22 35 55 58 62 66\n",
      "38\n"
     ]
    }
   ],
   "source": [
    "input()\n",
    "A=set(map(int,input().split()))\n",
    "n=int(input())\n",
    "\n",
    "for i in range(0,n):\n",
    "   \n",
    "    command=input().split()\n",
    "    S=set(map(int,input().split()))\n",
    "    if command[0]==\"intersection_update\":\n",
    "        A.intersection_update(S)\n",
    "    if command[0]==\"update\":\n",
    "        A.update(S)\n",
    "    if command[0]==\"difference_update\":\n",
    "        A.difference_update(S) \n",
    "    if command[0]==\"symmetric_difference_update\":\n",
    "        A.symmetric_difference_update(S)\n",
    "        \n",
    "    \n",
    "print(sum(A)) "
   ]
  },
  {
   "cell_type": "markdown",
   "id": "1ffd54dc",
   "metadata": {},
   "source": [
    "# The Captain's Room"
   ]
  },
  {
   "cell_type": "code",
   "execution_count": 1,
   "id": "36879f50",
   "metadata": {},
   "outputs": [
    {
     "name": "stdout",
     "output_type": "stream",
     "text": [
      "5\n",
      "1 1 5 7 9 6 5 7 9 9 7 5 1 7\n",
      "6\n"
     ]
    }
   ],
   "source": [
    "K=int(input())\n",
    "Room_Number=input().split()\n",
    "Room_Number_Set=set(Room_Number)\n",
    "for x in Room_Number_Set:\n",
    "    count = 0\n",
    "    for i in Room_Number:\n",
    "        if x == i:\n",
    "            count += 1\n",
    "            if count > 1:\n",
    "                break\n",
    "    if count == 1:\n",
    "        print (x)\n",
    "        break"
   ]
  },
  {
   "cell_type": "markdown",
   "id": "8c2c6821",
   "metadata": {},
   "source": [
    "# Check Subset"
   ]
  },
  {
   "cell_type": "code",
   "execution_count": 2,
   "id": "4d619920",
   "metadata": {},
   "outputs": [
    {
     "name": "stdout",
     "output_type": "stream",
     "text": [
      "3\n",
      "5\n",
      "1 2 3 5 6\n",
      "9\n",
      "9 8 5 6 3 2 1 4 7\n",
      "1\n",
      "2\n",
      "5\n",
      "3 6 5 4 1\n",
      "7\n",
      "1 2 3 5 6 8 9\n",
      "3\n",
      "9 8 2\n",
      "True\n",
      "False\n",
      "False\n"
     ]
    }
   ],
   "source": [
    "T=int(input())\n",
    "l=[]\n",
    "for i in range(T):\n",
    "    n_A=int(input())\n",
    "    A=set(map(int, input().split()))\n",
    "    n_B=int(input())\n",
    "    B=set(map(int,input().split()))\n",
    "    if A.issubset(B):\n",
    "        l.append(True)\n",
    "    else:\n",
    "        l.append(False)\n",
    "for i in l:\n",
    "    print(i)"
   ]
  },
  {
   "cell_type": "markdown",
   "id": "a73dfc5f",
   "metadata": {},
   "source": [
    "# Check Strict Superset\n",
    "\n"
   ]
  },
  {
   "cell_type": "code",
   "execution_count": 3,
   "id": "2c0de805",
   "metadata": {},
   "outputs": [
    {
     "name": "stdout",
     "output_type": "stream",
     "text": [
      "1 2 3 4 5 6 7 8 9 10 11 12 23 45 84 78\n",
      "2\n",
      "1 2 3 4 5\n",
      "100 11 12\n",
      "False\n"
     ]
    }
   ],
   "source": [
    "A=set(map(int,input().split()))\n",
    "N=int(input())\n",
    "Count=0\n",
    "for i in range(N):\n",
    "    S=set(map(int,input().split()))\n",
    "    if A.issuperset(S):\n",
    "        Count+=1\n",
    "if Count==N:\n",
    "    print(\"True\")\n",
    "else:\n",
    "    print(\"False\")"
   ]
  },
  {
   "cell_type": "code",
   "execution_count": null,
   "id": "7a9ba123",
   "metadata": {},
   "outputs": [],
   "source": []
  }
 ],
 "metadata": {
  "kernelspec": {
   "display_name": "Python 3",
   "language": "python",
   "name": "python3"
  },
  "language_info": {
   "codemirror_mode": {
    "name": "ipython",
    "version": 3
   },
   "file_extension": ".py",
   "mimetype": "text/x-python",
   "name": "python",
   "nbconvert_exporter": "python",
   "pygments_lexer": "ipython3",
   "version": "3.8.8"
  }
 },
 "nbformat": 4,
 "nbformat_minor": 5
}
