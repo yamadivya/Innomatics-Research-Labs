{
 "cells": [
  {
   "cell_type": "markdown",
   "id": "a75dfab1",
   "metadata": {},
   "source": [
    "# Polar Coordinates"
   ]
  },
  {
   "cell_type": "code",
   "execution_count": 1,
   "id": "590f9286",
   "metadata": {},
   "outputs": [
    {
     "name": "stdout",
     "output_type": "stream",
     "text": [
      "1+2j\n",
      "2.23606797749979\n",
      "1.1071487177940904\n"
     ]
    }
   ],
   "source": [
    "import cmath\n",
    "z=complex(input())\n",
    "print(abs(z))\n",
    "print(cmath.phase(z))"
   ]
  },
  {
   "cell_type": "markdown",
   "id": "95155b7e",
   "metadata": {},
   "source": [
    "# Find Angle MBC"
   ]
  },
  {
   "cell_type": "code",
   "execution_count": 2,
   "id": "09217291",
   "metadata": {},
   "outputs": [
    {
     "name": "stdout",
     "output_type": "stream",
     "text": [
      "10\n",
      "5\n",
      "63°\n"
     ]
    }
   ],
   "source": [
    "import math\n",
    "AB=int(input())\n",
    "BC=int(input())\n",
    "Hypotenuse=math.sqrt(AB**2 + BC**2)\n",
    "Hypotenuse = Hypotenuse/2.0\n",
    "Adjacent=BC/2.0\n",
    "Angle=int(round(math.degrees(math.acos(Adjacent/Hypotenuse))))\n",
    "Angle=str(Angle)\n",
    "print(Angle+u\"\\N{DEGREE SIGN}\")"
   ]
  },
  {
   "cell_type": "markdown",
   "id": "73765d2d",
   "metadata": {},
   "source": [
    "# Triangle Quest 2"
   ]
  },
  {
   "cell_type": "code",
   "execution_count": 3,
   "id": "492b331b",
   "metadata": {},
   "outputs": [
    {
     "name": "stdout",
     "output_type": "stream",
     "text": [
      "5\n",
      "1\n",
      "121\n",
      "12321\n",
      "1234321\n",
      "123454321\n"
     ]
    }
   ],
   "source": [
    "for i in range(1,int(input())+1): \n",
    "    print ((((10**i)-1)//(9))**2)"
   ]
  },
  {
   "cell_type": "markdown",
   "id": "96a65d27",
   "metadata": {},
   "source": [
    "# Mod Divmod"
   ]
  },
  {
   "cell_type": "code",
   "execution_count": 4,
   "id": "4f6c5087",
   "metadata": {},
   "outputs": [
    {
     "name": "stdout",
     "output_type": "stream",
     "text": [
      "177\n",
      "10\n",
      "17\n",
      "7\n",
      "(17, 7)\n"
     ]
    }
   ],
   "source": [
    "a=int(input())\n",
    "b=int(input())\n",
    "print(a//b)\n",
    "print(a%b)\n",
    "t=(a//b,a%b)\n",
    "print(t)"
   ]
  },
  {
   "cell_type": "markdown",
   "id": "7d79677f",
   "metadata": {},
   "source": [
    "# Power - Mod Power\n",
    "\n"
   ]
  },
  {
   "cell_type": "code",
   "execution_count": 5,
   "id": "a36f0ad9",
   "metadata": {},
   "outputs": [
    {
     "name": "stdout",
     "output_type": "stream",
     "text": [
      "3\n",
      "4\n",
      "5\n",
      "81\n",
      "1\n"
     ]
    }
   ],
   "source": [
    "import math\n",
    "a=int(input())\n",
    "b=int(input())\n",
    "m=int(input())\n",
    "print(int(pow(a,b)))\n",
    "print(pow(a,b,m))"
   ]
  },
  {
   "cell_type": "markdown",
   "id": "ffe96b37",
   "metadata": {},
   "source": [
    "# Integers Come In All Sizes"
   ]
  },
  {
   "cell_type": "code",
   "execution_count": 6,
   "id": "dbfcf2db",
   "metadata": {},
   "outputs": [
    {
     "name": "stdout",
     "output_type": "stream",
     "text": [
      "9\n",
      "29\n",
      "7\n",
      "27\n",
      "4710194409608608369201743232\n"
     ]
    }
   ],
   "source": [
    "import math\n",
    "a=int(input())\n",
    "b=int(input())\n",
    "c=int(input())\n",
    "d=int(input())\n",
    "print(int(pow(a,b))+int(pow(c,d)))"
   ]
  },
  {
   "cell_type": "markdown",
   "id": "5b046499",
   "metadata": {},
   "source": [
    "# Triangle Quest"
   ]
  },
  {
   "cell_type": "code",
   "execution_count": 7,
   "id": "97abac89",
   "metadata": {},
   "outputs": [
    {
     "name": "stdout",
     "output_type": "stream",
     "text": [
      "5\n",
      "1\n",
      "22\n",
      "333\n",
      "4444\n"
     ]
    }
   ],
   "source": [
    "for i in range(1,int(input())):\n",
    "    print(int((i*10**i)/ 9))"
   ]
  },
  {
   "cell_type": "code",
   "execution_count": null,
   "id": "d8b3128e",
   "metadata": {},
   "outputs": [],
   "source": []
  }
 ],
 "metadata": {
  "kernelspec": {
   "display_name": "Python 3",
   "language": "python",
   "name": "python3"
  },
  "language_info": {
   "codemirror_mode": {
    "name": "ipython",
    "version": 3
   },
   "file_extension": ".py",
   "mimetype": "text/x-python",
   "name": "python",
   "nbconvert_exporter": "python",
   "pygments_lexer": "ipython3",
   "version": "3.8.8"
  }
 },
 "nbformat": 4,
 "nbformat_minor": 5
}
