{
 "cells": [
  {
   "cell_type": "markdown",
   "id": "11288dc0",
   "metadata": {},
   "source": [
    "# Detect Floating Point Number"
   ]
  },
  {
   "cell_type": "code",
   "execution_count": 2,
   "id": "0cdd80b9",
   "metadata": {},
   "outputs": [
    {
     "name": "stdout",
     "output_type": "stream",
     "text": [
      "4\n",
      ".80\n",
      "True\n",
      ".p3\n",
      "False\n",
      "12.56\n",
      "True\n",
      "-9.7\n",
      "True\n"
     ]
    }
   ],
   "source": [
    "import re\n",
    "T=int(input())\n",
    "for i in range(T):\n",
    "    fln=input()\n",
    "    regex = r'^[+\\-]?\\d*\\.\\d+$'\n",
    "    print(bool(re.search(regex,fln)))"
   ]
  },
  {
   "cell_type": "markdown",
   "id": "fdb9e5d8",
   "metadata": {},
   "source": [
    "# Re.split()\n"
   ]
  },
  {
   "cell_type": "code",
   "execution_count": 3,
   "id": "7fa61260",
   "metadata": {},
   "outputs": [
    {
     "name": "stdout",
     "output_type": "stream",
     "text": [
      "100,00,00.432\n",
      "100\n",
      "00\n",
      "00\n",
      "432\n"
     ]
    }
   ],
   "source": [
    "regex_pattern = r\"[.\\,]\"\n",
    "\n",
    "import re\n",
    "print(\"\\n\".join(re.split(regex_pattern, input())))"
   ]
  },
  {
   "cell_type": "markdown",
   "id": "e6222b5b",
   "metadata": {},
   "source": [
    "# Group(), Groups() & Groupdict()"
   ]
  },
  {
   "cell_type": "code",
   "execution_count": 4,
   "id": "30055e07",
   "metadata": {},
   "outputs": [
    {
     "name": "stdout",
     "output_type": "stream",
     "text": [
      "12342221\n",
      "2\n"
     ]
    }
   ],
   "source": [
    "import re\n",
    "m = re.search(r\"([a-z0-9])\\1+\", input())\n",
    "print(m.group(1) if m else -1)"
   ]
  },
  {
   "cell_type": "markdown",
   "id": "c33a2ce5",
   "metadata": {},
   "source": [
    "# Hex Color Code"
   ]
  },
  {
   "cell_type": "code",
   "execution_count": null,
   "id": "17ab4e06",
   "metadata": {},
   "outputs": [
    {
     "name": "stdout",
     "output_type": "stream",
     "text": [
      "11\n",
      "#BED\n",
      "{\n",
      "color: #FfFdF8; background-color:#aef;\n",
      "#FfFdF8\n",
      "#aef\n",
      "}\n",
      "#Cab\n",
      "{\n",
      "background-color: #ABC;\n",
      "#ABC\n",
      "}\n"
     ]
    }
   ],
   "source": [
    "import re\n",
    "regex=r'(#[0-9a-fA-F]{3,6}){1,2}[^\\n ]'\n",
    "for i in range(int(input())):\n",
    "    for x in re.findall(regex,input()):\n",
    "        print(x)"
   ]
  },
  {
   "cell_type": "markdown",
   "id": "101c70f5",
   "metadata": {},
   "source": [
    "# HTML Parser - Part 1"
   ]
  },
  {
   "cell_type": "code",
   "execution_count": null,
   "id": "462dd948",
   "metadata": {},
   "outputs": [],
   "source": [
    "from html.parser import HTMLParser\n",
    "class MyHTMLParser(HTMLParser):\n",
    "    def handle_starttag(self, tag, attrs):        \n",
    "        print ('Start :',tag)\n",
    "        for ele in attrs:\n",
    "            print ('->',ele[0],'>',ele[1])\n",
    "            \n",
    "    def handle_endtag(self, tag):\n",
    "        print ('End   :',tag)\n",
    "        \n",
    "    def handle_startendtag(self, tag, attrs):\n",
    "        print ('Empty :',tag)\n",
    "        for ele in attrs:\n",
    "            print ('->',ele[0],'>',ele[1])\n",
    "            \n",
    "parser = MyHTMLParser()\n",
    "for i in range(int(input())):\n",
    "    parser.feed(input())"
   ]
  },
  {
   "cell_type": "markdown",
   "id": "2fc62e3a",
   "metadata": {},
   "source": [
    "# HTML Parser - Part 2"
   ]
  },
  {
   "cell_type": "code",
   "execution_count": null,
   "id": "9f16bea5",
   "metadata": {},
   "outputs": [],
   "source": [
    "from html.parser import HTMLParser\n",
    "\n",
    "class MyHTMLParser(HTMLParser):\n",
    "    def handle_comment(self, data):\n",
    "        number_of_line = len(data.split('\\n'))\n",
    "        if number_of_line>1:\n",
    "            print('>>> Multi-line Comment')\n",
    "        else:\n",
    "            print('>>> Single-line Comment')\n",
    "        if data.strip():\n",
    "            print(data)\n",
    "\n",
    "    def handle_data(self, data):\n",
    "        if data.strip():\n",
    "            print(\">>> Data\")\n",
    "            print(data)\n",
    "\n",
    "parser = MyHTMLParser() \n",
    "  \n",
    "html = \"\"       \n",
    "for i in range(int(input())):\n",
    "    html += input().rstrip()\n",
    "    html += '\\n'\n",
    "\n",
    "parser = MyHTMLParser()\n",
    "parser.feed(html)\n",
    "parser.close()"
   ]
  },
  {
   "cell_type": "markdown",
   "id": "e0b5292c",
   "metadata": {},
   "source": [
    "# Detect HTML Tags, Attributes and Attribute Values"
   ]
  },
  {
   "cell_type": "code",
   "execution_count": null,
   "id": "df148bb3",
   "metadata": {},
   "outputs": [],
   "source": [
    "from html.parser import HTMLParser\n",
    "class MyHTMLParser(HTMLParser):\n",
    "    def handle_starttag(self, tag, attrs):        \n",
    "        print (tag)\n",
    "        for ele in attrs:\n",
    "            print ('->',ele[0],'>',ele[1])\n",
    "            \n",
    "parser = MyHTMLParser()\n",
    "for i in range(int(input())):\n",
    "    parser.feed(input())"
   ]
  },
  {
   "cell_type": "markdown",
   "id": "0dc09663",
   "metadata": {},
   "source": [
    "# Validating UID"
   ]
  },
  {
   "cell_type": "code",
   "execution_count": null,
   "id": "2df13864",
   "metadata": {},
   "outputs": [],
   "source": [
    "import re\n",
    "T=int(input())\n",
    "for i in range(T):\n",
    "    UID=input()\n",
    "    regex = r'^(?!.*(.).*\\1)(?=(?:.*[A-Z]){2,})(?=(?:.*\\d){3,})[a-zA-Z0-9]{10}$'\n",
    "    if re.search(regex,UID):\n",
    "        print(\"Valid\")\n",
    "    else:\n",
    "        print(\"Invalid\")"
   ]
  },
  {
   "cell_type": "markdown",
   "id": "c07875ba",
   "metadata": {},
   "source": [
    "# Validating Credit Card Numbers"
   ]
  },
  {
   "cell_type": "code",
   "execution_count": null,
   "id": "68de875a",
   "metadata": {},
   "outputs": [],
   "source": [
    "import re\n",
    "N=int(input())\n",
    "for i in range(N):\n",
    "    credit_card_number=input()\n",
    "    credit_card_pattern = r'[456](\\d{3})(-?)\\d{4}(-?)\\d{4}(-?)\\d{4}$'\n",
    "    if re.match(credit_card_pattern,credit_card_number):\n",
    "        if re.search(r\"([\\d])\\1\\1\\1\", credit_card_number.replace(\"-\", \"\")):\n",
    "            print(\"Invalid\")\n",
    "        else:\n",
    "            print(\"Valid\")\n",
    "    else:\n",
    "        print(\"Invalid\")"
   ]
  },
  {
   "cell_type": "markdown",
   "id": "b763c386",
   "metadata": {},
   "source": [
    "# Re.start() and Re.end()"
   ]
  },
  {
   "cell_type": "code",
   "execution_count": 1,
   "id": "fe008b44",
   "metadata": {},
   "outputs": [
    {
     "name": "stdout",
     "output_type": "stream",
     "text": [
      "aaadaa\n",
      "aa\n",
      "(0, 1)\n",
      "(1, 2)\n",
      "(4, 5)\n"
     ]
    }
   ],
   "source": [
    "import re\n",
    "S=input()\n",
    "k=input()\n",
    "substring=re.compile(k)\n",
    "m=substring.search(S)\n",
    "if not m:\n",
    "    print((-1,-1))\n",
    "while m:\n",
    "    print(\"({0}, {1})\".format(m.start(), m.end() - 1))\n",
    "    m = substring.search(S,m.start() + 1)"
   ]
  },
  {
   "cell_type": "markdown",
   "id": "c1b4b62e",
   "metadata": {},
   "source": [
    "# Regex Substitution"
   ]
  },
  {
   "cell_type": "code",
   "execution_count": 2,
   "id": "50edae85",
   "metadata": {},
   "outputs": [
    {
     "name": "stdout",
     "output_type": "stream",
     "text": [
      "6\n",
      "a = 1;\n",
      "a = 1;\n",
      "b = input();\n",
      "b = input();\n",
      "if a + b > 0 && a - b < 0:\n",
      "if a + b > 0 and a - b < 0:\n",
      "start()\n",
      "start()\n",
      "elif a*b > 10 || a/b < 1:\n",
      "elif a*b > 10 or a/b < 1:\n",
      "stop()\n",
      "stop()\n"
     ]
    },
    {
     "data": {
      "text/plain": [
       "[None, None, None, None, None, None]"
      ]
     },
     "execution_count": 2,
     "metadata": {},
     "output_type": "execute_result"
    }
   ],
   "source": [
    "import re\n",
    "[print(re.sub('(?<=\\s)\\&\\&\\s', 'and ', re.sub('\\s\\|\\|\\s', ' or ', input()))) for i in range(int(input()))]"
   ]
  },
  {
   "cell_type": "markdown",
   "id": "75efe59d",
   "metadata": {},
   "source": [
    "# Validating Roman Numerals"
   ]
  },
  {
   "cell_type": "code",
   "execution_count": 3,
   "id": "70b409ea",
   "metadata": {},
   "outputs": [
    {
     "name": "stdout",
     "output_type": "stream",
     "text": [
      "LMXX\n",
      "False\n"
     ]
    }
   ],
   "source": [
    "regex_pattern = r\"^M{0,3}(CM|CD|D?C{0,3})(XC|XL|L?X{0,3})(IX|IV|V?I{0,3})$\"\n",
    "\n",
    "import re\n",
    "print(str(bool(re.match(regex_pattern, input()))))"
   ]
  },
  {
   "cell_type": "markdown",
   "id": "38734433",
   "metadata": {},
   "source": [
    "# Validating Phone numbers"
   ]
  },
  {
   "cell_type": "code",
   "execution_count": null,
   "id": "15aa0c8c",
   "metadata": {},
   "outputs": [],
   "source": [
    "import re\n",
    "T=int(input())\n",
    "for i in range(T):\n",
    "    phone_number=input()\n",
    "    regex=r'[789]\\d{9}$'\n",
    "    if re.match(regex,phone_number):\n",
    "        print(\"YES\")\n",
    "    else:\n",
    "        print(\"NO\")"
   ]
  },
  {
   "cell_type": "code",
   "execution_count": null,
   "id": "794cc724",
   "metadata": {},
   "outputs": [],
   "source": []
  }
 ],
 "metadata": {
  "kernelspec": {
   "display_name": "Python 3",
   "language": "python",
   "name": "python3"
  },
  "language_info": {
   "codemirror_mode": {
    "name": "ipython",
    "version": 3
   },
   "file_extension": ".py",
   "mimetype": "text/x-python",
   "name": "python",
   "nbconvert_exporter": "python",
   "pygments_lexer": "ipython3",
   "version": "3.8.8"
  }
 },
 "nbformat": 4,
 "nbformat_minor": 5
}
