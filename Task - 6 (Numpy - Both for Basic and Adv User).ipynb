{
 "cells": [
  {
   "cell_type": "markdown",
   "id": "dfd94692",
   "metadata": {},
   "source": [
    "# Arrays"
   ]
  },
  {
   "cell_type": "code",
   "execution_count": 1,
   "id": "d8b7c547",
   "metadata": {},
   "outputs": [
    {
     "name": "stdout",
     "output_type": "stream",
     "text": [
      "1 2 3 4 5 6\n",
      "[6. 5. 4. 3. 2. 1.]\n"
     ]
    }
   ],
   "source": [
    "import numpy\n",
    "\n",
    "def arrays(arr):\n",
    "    fl=numpy.array(arr,float)\n",
    "    return (fl[::-1])\n",
    "\n",
    "arr = input().strip().split(' ')\n",
    "result = arrays(arr)\n",
    "print(result)"
   ]
  },
  {
   "cell_type": "markdown",
   "id": "eb1801a6",
   "metadata": {},
   "source": [
    "# Shape and Reshape"
   ]
  },
  {
   "cell_type": "code",
   "execution_count": 2,
   "id": "17592d74",
   "metadata": {},
   "outputs": [
    {
     "name": "stdout",
     "output_type": "stream",
     "text": [
      "1 2 3 4 5 6 7 8 9\n",
      "[[1 2 3]\n",
      " [4 5 6]\n",
      " [7 8 9]]\n"
     ]
    }
   ],
   "source": [
    "import numpy\n",
    "arr = input().strip().split(' ')\n",
    "a=numpy.array(arr,int)\n",
    "print(a.reshape(3,3))"
   ]
  },
  {
   "cell_type": "markdown",
   "id": "87fc96d9",
   "metadata": {},
   "source": [
    "# Transpose and Flatten"
   ]
  },
  {
   "cell_type": "code",
   "execution_count": 3,
   "id": "17cb383d",
   "metadata": {},
   "outputs": [
    {
     "name": "stdout",
     "output_type": "stream",
     "text": [
      "2 2\n",
      "13 12\n",
      "3 6\n",
      "[[13  3]\n",
      " [12  6]]\n",
      "[13 12  3  6]\n"
     ]
    }
   ],
   "source": [
    "import numpy\n",
    "n , m = input().split();\n",
    "a = []\n",
    "for i in range(int(n)):\n",
    "    my_array = input().split()\n",
    "    a.append(my_array)\n",
    "    \n",
    "lis1 = numpy.array(a,int)\n",
    "print(numpy.transpose(lis1))\n",
    "print(lis1.flatten())"
   ]
  },
  {
   "cell_type": "markdown",
   "id": "7e6fd069",
   "metadata": {},
   "source": [
    "# Concatenate"
   ]
  },
  {
   "cell_type": "code",
   "execution_count": 1,
   "id": "c16da1ec",
   "metadata": {},
   "outputs": [
    {
     "name": "stdout",
     "output_type": "stream",
     "text": [
      "4 3 2\n",
      "1 2\n",
      "1 2\n",
      "1 2\n",
      "1 2\n",
      "3 4\n",
      "3 4\n",
      "3 4\n",
      "[[1 2]\n",
      " [1 2]\n",
      " [1 2]\n",
      " [1 2]\n",
      " [3 4]\n",
      " [3 4]\n",
      " [3 4]]\n"
     ]
    }
   ],
   "source": [
    "import numpy\n",
    "n , m , p = input().split();\n",
    "pn = []\n",
    "for i in range(int(n)):\n",
    "    my_array = input().split()\n",
    "    pn.append(my_array)\n",
    "    arr1=numpy.array(pn,int)\n",
    "pm = []\n",
    "for i in range(int(m)):\n",
    "    my_array = input().split()\n",
    "    pm.append(my_array)\n",
    "    arr2=numpy.array(pm,int)\n",
    "print(numpy.concatenate((arr1, arr2), axis = 0))"
   ]
  },
  {
   "cell_type": "markdown",
   "id": "656afe7d",
   "metadata": {},
   "source": [
    "# Zeros and Ones"
   ]
  },
  {
   "cell_type": "code",
   "execution_count": 2,
   "id": "463a2f19",
   "metadata": {},
   "outputs": [
    {
     "name": "stdout",
     "output_type": "stream",
     "text": [
      "3 3 3\n",
      "[[[0 0 0]\n",
      "  [0 0 0]\n",
      "  [0 0 0]]\n",
      "\n",
      " [[0 0 0]\n",
      "  [0 0 0]\n",
      "  [0 0 0]]\n",
      "\n",
      " [[0 0 0]\n",
      "  [0 0 0]\n",
      "  [0 0 0]]]\n",
      "[[[1 1 1]\n",
      "  [1 1 1]\n",
      "  [1 1 1]]\n",
      "\n",
      " [[1 1 1]\n",
      "  [1 1 1]\n",
      "  [1 1 1]]\n",
      "\n",
      " [[1 1 1]\n",
      "  [1 1 1]\n",
      "  [1 1 1]]]\n"
     ]
    }
   ],
   "source": [
    "import numpy\n",
    "a=list(map(int, input().split()))\n",
    "print(numpy.zeros(a, int))\n",
    "print(numpy.ones(a,int))"
   ]
  },
  {
   "cell_type": "markdown",
   "id": "a4d52a37",
   "metadata": {},
   "source": [
    "# Eye and Identity"
   ]
  },
  {
   "cell_type": "code",
   "execution_count": 4,
   "id": "a8c28774",
   "metadata": {},
   "outputs": [
    {
     "name": "stdout",
     "output_type": "stream",
     "text": [
      "3 3\n",
      "[[ 1.  0.  0.]\n",
      " [ 0.  1.  0.]\n",
      " [ 0.  0.  1.]]\n"
     ]
    }
   ],
   "source": [
    "import numpy\n",
    "numpy.set_printoptions(legacy='1.13')\n",
    "a=input().split(\" \")\n",
    "print(numpy.eye(int(a[0]), int(a[1])))"
   ]
  },
  {
   "cell_type": "markdown",
   "id": "7d3fbd9f",
   "metadata": {},
   "source": [
    "# Array Mathematics"
   ]
  },
  {
   "cell_type": "code",
   "execution_count": 5,
   "id": "9ab09568",
   "metadata": {},
   "outputs": [
    {
     "name": "stdout",
     "output_type": "stream",
     "text": [
      "1 4\n",
      "1 2 3 4\n",
      "5 6 7 8\n",
      "[[ 6  8 10 12]]\n",
      "[[-4 -4 -4 -4]]\n",
      "[[ 5 12 21 32]]\n",
      "[[0 0 0 0]]\n",
      "[[1 2 3 4]]\n",
      "[[    1    64  2187 65536]]\n"
     ]
    }
   ],
   "source": [
    "import numpy\n",
    "n , m = input().split();\n",
    "a = []\n",
    "b = []\n",
    "\n",
    "for i in range(int(n)):\n",
    "    my_array = input().split()\n",
    "    a.append(my_array)\n",
    "    arr1=numpy.array(a,int)\n",
    "    \n",
    "for i in range(int(n)):\n",
    "    my_array = input().split()\n",
    "    b.append(my_array)\n",
    "    arr2=numpy.array(b,int)\n",
    "    \n",
    "print(numpy.add(arr1,arr2))\n",
    "print(numpy.subtract(arr1,arr2))\n",
    "print(numpy.multiply(arr1,arr2))\n",
    "print(arr1//arr2)\n",
    "print(numpy.mod(arr1,arr2))\n",
    "print(numpy.power(arr1,arr2))"
   ]
  },
  {
   "cell_type": "markdown",
   "id": "4792c87b",
   "metadata": {},
   "source": [
    "# floor, ceil, rint"
   ]
  },
  {
   "cell_type": "code",
   "execution_count": 6,
   "id": "9078ac9f",
   "metadata": {},
   "outputs": [
    {
     "name": "stdout",
     "output_type": "stream",
     "text": [
      "1.1 2.2 3.3 4.4 5.5 6.6 7.7 8.8 9.9\n",
      "[ 1.  2.  3.  4.  5.  6.  7.  8.  9.]\n",
      "[  2.   3.   4.   5.   6.   7.   8.   9.  10.]\n",
      "[  1.   2.   3.   4.   6.   7.   8.   9.  10.]\n"
     ]
    }
   ],
   "source": [
    "import numpy\n",
    "numpy.set_printoptions(legacy='1.13')\n",
    "elem=input().split(\" \")\n",
    "A=numpy.array(elem,float)\n",
    "print(numpy.floor(A))\n",
    "print(numpy.ceil(A))\n",
    "print(numpy.rint(A))"
   ]
  },
  {
   "cell_type": "markdown",
   "id": "e1131e70",
   "metadata": {},
   "source": [
    "# Sum and Prod"
   ]
  },
  {
   "cell_type": "code",
   "execution_count": 7,
   "id": "edddacc5",
   "metadata": {},
   "outputs": [
    {
     "name": "stdout",
     "output_type": "stream",
     "text": [
      "2 2\n",
      "2 3\n",
      "4 7\n",
      "60\n"
     ]
    }
   ],
   "source": [
    "import numpy\n",
    "n,m=map(int,input().split())\n",
    "arr=[]\n",
    "for i in range(n):\n",
    "    elem=input().split()\n",
    "    arr.append(elem)\n",
    "    A=numpy.array(arr,int)\n",
    "s=numpy.sum(A,axis=0)\n",
    "print(numpy.prod(s))"
   ]
  },
  {
   "cell_type": "markdown",
   "id": "5f6e16d6",
   "metadata": {},
   "source": [
    "# Min and Max"
   ]
  },
  {
   "cell_type": "code",
   "execution_count": 8,
   "id": "70a3b235",
   "metadata": {},
   "outputs": [
    {
     "name": "stdout",
     "output_type": "stream",
     "text": [
      "4 2\n",
      "2 5\n",
      "3 7\n",
      "1 3\n",
      "4 0\n",
      "3\n"
     ]
    }
   ],
   "source": [
    "import numpy\n",
    "n,m=map(int,input().split())\n",
    "arr=[]\n",
    "for i in range(n):\n",
    "    elem=input().split()\n",
    "    arr.append(elem)\n",
    "    A=numpy.array(arr,int)\n",
    "s=numpy.min(A,axis=1)\n",
    "print(numpy.max(s))"
   ]
  },
  {
   "cell_type": "markdown",
   "id": "aad91eb1",
   "metadata": {},
   "source": [
    "# Mean, Var and Std"
   ]
  },
  {
   "cell_type": "code",
   "execution_count": 9,
   "id": "7c3d48aa",
   "metadata": {},
   "outputs": [
    {
     "name": "stdout",
     "output_type": "stream",
     "text": [
      "2 2 \n",
      "1 2\n",
      "3 4\n",
      "[ 1.5  3.5]\n",
      "[ 1.  1.]\n",
      "1.11803398875\n"
     ]
    }
   ],
   "source": [
    "import numpy\n",
    "n,m=map(int,input().split())\n",
    "arr=[]\n",
    "for i in range(n):\n",
    "    elem=input().split()\n",
    "    arr.append(elem)\n",
    "    A=numpy.array(arr,int)\n",
    "print(numpy.mean(A,axis=1))\n",
    "print(numpy.var(A,axis=0))\n",
    "print(numpy.std(A))"
   ]
  },
  {
   "cell_type": "markdown",
   "id": "6e3d785f",
   "metadata": {},
   "source": [
    "# Linear Algebra"
   ]
  },
  {
   "cell_type": "code",
   "execution_count": 10,
   "id": "83c8f4f6",
   "metadata": {},
   "outputs": [
    {
     "name": "stdout",
     "output_type": "stream",
     "text": [
      "2\n",
      "1.1 1.1\n",
      "1.1 1.1\n",
      "0.0\n"
     ]
    }
   ],
   "source": [
    "import numpy\n",
    "n = int(input()) \n",
    "A = numpy.array([input().split() for i in range(n)], float) \n",
    "print(round(numpy.linalg.det(A),2))"
   ]
  },
  {
   "cell_type": "markdown",
   "id": "a16ff091",
   "metadata": {},
   "source": [
    "# Dot and Cross"
   ]
  },
  {
   "cell_type": "code",
   "execution_count": 11,
   "id": "b62fc859",
   "metadata": {},
   "outputs": [
    {
     "name": "stdout",
     "output_type": "stream",
     "text": [
      "2\n",
      "1 2\n",
      "3 4\n",
      "1 2\n",
      "3 4\n",
      "[[ 7 10]\n",
      " [15 22]]\n"
     ]
    }
   ],
   "source": [
    "import numpy\n",
    "n=int(input())\n",
    "a=[]\n",
    "b=[]\n",
    "for i in range(n):\n",
    "    elem=input().split()\n",
    "    a.append(elem)\n",
    "    arr1 = numpy.array(a,int)\n",
    "    \n",
    "for i in range(n):\n",
    "    elem=input().split()\n",
    "    b.append(elem)\n",
    "    arr2 = numpy.array(b,int)\n",
    "    \n",
    "print(numpy.dot(arr1,arr2))"
   ]
  },
  {
   "cell_type": "markdown",
   "id": "bfa6a23d",
   "metadata": {},
   "source": [
    "# Inner and Outer"
   ]
  },
  {
   "cell_type": "code",
   "execution_count": 12,
   "id": "aa17bbb4",
   "metadata": {},
   "outputs": [
    {
     "name": "stdout",
     "output_type": "stream",
     "text": [
      "0 1\n",
      "2 3\n",
      "3\n",
      "[[0 0]\n",
      " [2 3]]\n"
     ]
    }
   ],
   "source": [
    "import numpy\n",
    "elem_A=input().split()\n",
    "A=numpy.array(elem_A,int)\n",
    "elem_B=input().split()\n",
    "B=numpy.array(elem_B,int)\n",
    "print(numpy.inner(A,B))\n",
    "print(numpy.outer(A,B))"
   ]
  },
  {
   "cell_type": "markdown",
   "id": "4f3677cd",
   "metadata": {},
   "source": [
    "# Polynomials"
   ]
  },
  {
   "cell_type": "code",
   "execution_count": 13,
   "id": "c5c9648a",
   "metadata": {},
   "outputs": [
    {
     "name": "stdout",
     "output_type": "stream",
     "text": [
      "1.1 2 3\n",
      "0\n",
      "3.0\n"
     ]
    }
   ],
   "source": [
    "import numpy\n",
    "l1 = list(map(float,input().split()))\n",
    "x = int(input())\n",
    "print(numpy.polyval(l1,x))"
   ]
  },
  {
   "cell_type": "code",
   "execution_count": null,
   "id": "41ea066b",
   "metadata": {},
   "outputs": [],
   "source": []
  }
 ],
 "metadata": {
  "kernelspec": {
   "display_name": "Python 3",
   "language": "python",
   "name": "python3"
  },
  "language_info": {
   "codemirror_mode": {
    "name": "ipython",
    "version": 3
   },
   "file_extension": ".py",
   "mimetype": "text/x-python",
   "name": "python",
   "nbconvert_exporter": "python",
   "pygments_lexer": "ipython3",
   "version": "3.8.8"
  }
 },
 "nbformat": 4,
 "nbformat_minor": 5
}
